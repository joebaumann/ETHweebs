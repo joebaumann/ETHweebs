{
 "cells": [
  {
   "cell_type": "code",
   "execution_count": 1,
   "metadata": {},
   "outputs": [],
   "source": [
    "from PIL import Image"
   ]
  },
  {
   "cell_type": "code",
   "execution_count": 5,
   "metadata": {},
   "outputs": [],
   "source": [
    "im = Image.open(r\"images/train/6.png\")"
   ]
  },
  {
   "cell_type": "code",
   "execution_count": 10,
   "metadata": {},
   "outputs": [
    {
     "name": "stdout",
     "output_type": "stream",
     "text": [
      "2.png: 5.94 MB\n",
      "15.png: 3.55 MB\n",
      "16.png: 3.08 MB\n",
      "19.png: 2.16 MB\n",
      "23.png: 2.33 MB\n",
      "34.png: 4.59 MB\n",
      "39.png: 3.72 MB\n",
      "40.png: 2.75 MB\n",
      "58.png: 2.97 MB\n",
      "71.png: 2.94 MB\n",
      "83.png: 7.87 MB\n",
      "127.png: 2.34 MB\n"
     ]
    }
   ],
   "source": [
    "import os\n",
    "\n",
    "dir_path = 'images2and3/train'\n",
    "\n",
    "# loop over all files in the directory\n",
    "for filename in os.listdir(dir_path):\n",
    "    filepath = os.path.join(dir_path, filename)\n",
    "    \n",
    "    # check if the file is a regular file (not a directory)\n",
    "    if os.path.isfile(filepath):\n",
    "        size = os.path.getsize(filepath)\n",
    "        if size > 1888080:\n",
    "            size = os.path.getsize(filepath) / (1024 * 1024)  # convert to megabytes\n",
    "            print(f\"{filename}: {size:.2f} MB\")\n"
   ]
  },
  {
   "cell_type": "code",
   "execution_count": null,
   "metadata": {},
   "outputs": [],
   "source": []
  }
 ],
 "metadata": {
  "kernelspec": {
   "display_name": "base",
   "language": "python",
   "name": "python3"
  },
  "language_info": {
   "codemirror_mode": {
    "name": "ipython",
    "version": 3
   },
   "file_extension": ".py",
   "mimetype": "text/x-python",
   "name": "python",
   "nbconvert_exporter": "python",
   "pygments_lexer": "ipython3",
   "version": "3.8.12 | packaged by conda-forge | (default, Oct 12 2021, 21:59:51) \n[GCC 9.4.0]"
  },
  "orig_nbformat": 4,
  "vscode": {
   "interpreter": {
    "hash": "d4d1e4263499bec80672ea0156c357c1ee493ec2b1c70f0acce89fc37c4a6abe"
   }
  }
 },
 "nbformat": 4,
 "nbformat_minor": 2
}
